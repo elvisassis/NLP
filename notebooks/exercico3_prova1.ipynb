{
 "cells": [
  {
   "cell_type": "code",
   "execution_count": 2,
   "metadata": {},
   "outputs": [],
   "source": [
    "from nlputils import lexical\n",
    "from gensim.models import Word2Vec, Doc2Vec\n",
    "from gensim.models.doc2vec import TaggedDocument\n",
    "import os"
   ]
  },
  {
   "cell_type": "code",
   "execution_count": 3,
   "metadata": {},
   "outputs": [],
   "source": [
    "normalizer  = lexical.Preprocessing()"
   ]
  },
  {
   "cell_type": "code",
   "execution_count": 4,
   "metadata": {},
   "outputs": [],
   "source": [
    "corpora_path = 'data/corpora'\n",
    "files_tecnologia = os.listdir('{}/tecnologia/'.format(corpora_path))\n",
    "files_tecnologia = ['{}/tecnologia/{}'.format(corpora_path,f) for f in files_tecnologia if f != '.DS_Store']\n",
    "files_musica = os.listdir('{}/musica/'.format(corpora_path))\n",
    "files_musica = ['{}/musica/{}'.format(corpora_path,f) for f in files_musica if f != '.DS_Store']"
   ]
  },
  {
   "cell_type": "markdown",
   "metadata": {},
   "source": [
    "### coloca todos os textos de tecnologia em uma lista"
   ]
  },
  {
   "cell_type": "code",
   "execution_count": 6,
   "metadata": {},
   "outputs": [
    {
     "name": "stdout",
     "output_type": "stream",
     "text": [
      "Number of sentences: 9535\n"
     ]
    }
   ],
   "source": [
    "all_sentences_tecnologia = []\n",
    "for file in files_tecnologia:\n",
    "    with open(file, 'r') as text_file:\n",
    "        lines = text_file.readlines()\n",
    "        for line in lines:\n",
    "            line = normalizer.lowercase(line)\n",
    "            sentences = normalizer.tokenize_sentences(line)\n",
    "            sentences = [normalizer.tokenize_words(sent) for sent in sentences]\n",
    "            all_sentences_tecnologia.extend(sentences)\n",
    "\n",
    "print(\"Number of sentences: {}\".format(len(all_sentences_tecnologia)))"
   ]
  },
  {
   "cell_type": "markdown",
   "metadata": {},
   "source": [
    "### Criação de um modelo para os textos de tecnlogia"
   ]
  },
  {
   "cell_type": "code",
   "execution_count": 7,
   "metadata": {},
   "outputs": [],
   "source": [
    "w2vmodel_tecnologia = Word2Vec(all_sentences_tecnologia, size=200, window=5, min_count=3, workers=4)"
   ]
  },
  {
   "cell_type": "code",
   "execution_count": 8,
   "metadata": {},
   "outputs": [
    {
     "data": {
      "text/plain": [
       "[('skyscanner', 0.9778474569320679),\n",
       " ('problema', 0.9755768179893494),\n",
       " ('serve', 0.9752904176712036),\n",
       " ('sobrando', 0.9743115901947021),\n",
       " ('dispositivo', 0.97403883934021),\n",
       " ('filtro', 0.972400963306427),\n",
       " ('modo', 0.9720526933670044),\n",
       " ('melhor', 0.9716858267784119),\n",
       " ('controla', 0.9712961912155151),\n",
       " ('transporta', 0.9706627726554871)]"
      ]
     },
     "execution_count": 8,
     "metadata": {},
     "output_type": "execute_result"
    }
   ],
   "source": [
    "w2vmodel_tecnologia.wv.most_similar('computador')"
   ]
  },
  {
   "cell_type": "markdown",
   "metadata": {},
   "source": [
    "### coloca todos os textos de musica em uma lista"
   ]
  },
  {
   "cell_type": "code",
   "execution_count": 9,
   "metadata": {},
   "outputs": [
    {
     "name": "stdout",
     "output_type": "stream",
     "text": [
      "Number of sentences: 6592\n"
     ]
    }
   ],
   "source": [
    "all_sentences_musica = []\n",
    "for file in files_musica:\n",
    "    with open(file, 'r') as text_file:\n",
    "        lines = text_file.readlines()\n",
    "        for line in lines:\n",
    "            line = normalizer.lowercase(line)\n",
    "            sentences = normalizer.tokenize_sentences(line)\n",
    "            sentences = [normalizer.tokenize_words(sent) for sent in sentences]\n",
    "            all_sentences_musica.extend(sentences)\n",
    "\n",
    "print(\"Number of sentences: {}\".format(len(all_sentences_musica)))"
   ]
  },
  {
   "cell_type": "markdown",
   "metadata": {},
   "source": [
    "### Criação de um modelo para os textos de tecnlogia"
   ]
  },
  {
   "cell_type": "code",
   "execution_count": 10,
   "metadata": {},
   "outputs": [],
   "source": [
    "w2vmodel_musica = Word2Vec(all_sentences_musica, size=200, window=5, min_count=3, workers=4)"
   ]
  },
  {
   "cell_type": "code",
   "execution_count": 11,
   "metadata": {},
   "outputs": [
    {
     "data": {
      "text/plain": [
       "[('episódio', 0.9961503148078918),\n",
       " ('chegamos', 0.9957747459411621),\n",
       " ('rosto', 0.9954717755317688),\n",
       " ('25th', 0.99500572681427),\n",
       " ('3dmark', 0.9949744343757629),\n",
       " ('swift', 0.9949501156806946),\n",
       " ('introduzido', 0.9949036240577698),\n",
       " ('centésimo', 0.9948446154594421),\n",
       " ('nasceu', 0.9947725534439087),\n",
       " ('feed', 0.9947611093521118)]"
      ]
     },
     "execution_count": 11,
     "metadata": {},
     "output_type": "execute_result"
    }
   ],
   "source": [
    "w2vmodel_tecnologia.wv.most_similar('estilo')"
   ]
  },
  {
   "cell_type": "code",
   "execution_count": 9,
   "metadata": {},
   "outputs": [
    {
     "name": "stdout",
     "output_type": "stream",
     "text": [
      "Number of documents: 605\n"
     ]
    }
   ],
   "source": [
    "all_documents = []\n",
    "all_files = files_tecnologia\n",
    "all_files.extend(files_politica)\n",
    "for file in all_files:\n",
    "    with open(file, 'r') as text_file:\n",
    "        document = ' '.join(text_file.readlines())\n",
    "        document = normalizer.lowercase(document)\n",
    "        document_tokens = normalizer.tokenize_words(document)\n",
    "        all_documents.append(document_tokens)\n",
    "print(\"Number of documents: {}\".format(len(all_documents)))\n",
    "tagged_documents = [TaggedDocument(words=d, tags=[str(i)]) for i, d in enumerate(all_documents)]"
   ]
  },
  {
   "cell_type": "code",
   "execution_count": 12,
   "metadata": {},
   "outputs": [],
   "source": [
    "d2vmodel = Doc2Vec(tagged_documents, vector_size=20, window=2, min_count=1, workers=4)"
   ]
  },
  {
   "cell_type": "code",
   "execution_count": 13,
   "metadata": {},
   "outputs": [],
   "source": [
    "vector_tec = d2vmodel.infer_vector(all_documents[0])\n",
    "vector_tec2 = d2vmodel.infer_vector(all_documents[1])\n",
    "vector_mus = d2vmodel.infer_vector(all_documents[len(all_documents)-1])\n",
    "vector_mus2 = d2vmodel.infer_vector(all_documents[len(all_documents)-2])"
   ]
  },
  {
   "cell_type": "code",
   "execution_count": 14,
   "metadata": {},
   "outputs": [
    {
     "name": "stdout",
     "output_type": "stream",
     "text": [
      "0.9563910365104675\n",
      "0.10848988592624664\n",
      "0.9363892674446106\n"
     ]
    }
   ],
   "source": [
    "# run this block many times\n",
    "from scipy import spatial\n",
    "\n",
    "print(1 - spatial.distance.cosine(vector_mus, vector_tec))\n",
    "print(1 - spatial.distance.cosine(vector_mus, vector_mus2))\n",
    "print(1 - spatial.distance.cosine(vector_tec, vector_tec2))"
   ]
  },
  {
   "cell_type": "code",
   "execution_count": null,
   "metadata": {},
   "outputs": [],
   "source": []
  }
 ],
 "metadata": {
  "kernelspec": {
   "display_name": "Python 3",
   "language": "python",
   "name": "python3"
  },
  "language_info": {
   "codemirror_mode": {
    "name": "ipython",
    "version": 3
   },
   "file_extension": ".py",
   "mimetype": "text/x-python",
   "name": "python",
   "nbconvert_exporter": "python",
   "pygments_lexer": "ipython3",
   "version": "3.5.4"
  }
 },
 "nbformat": 4,
 "nbformat_minor": 2
}
